{
  "nbformat": 4,
  "nbformat_minor": 0,
  "metadata": {
    "colab": {
      "provenance": []
    },
    "kernelspec": {
      "name": "python3",
      "display_name": "Python 3"
    },
    "language_info": {
      "name": "python"
    }
  },
  "cells": [
    {
      "cell_type": "code",
      "execution_count": 2,
      "metadata": {
        "id": "v9n9cM0wA9hB"
      },
      "outputs": [],
      "source": [
        "import nltk\n",
        "from nltk.corpus import stopwords\n",
        "from nltk.tokenize import word_tokenize, sent_tokenize\n",
        "from nltk.stem import PorterStemmer, WordNetLemmatizer\n",
        "from nltk import pos_tag"
      ]
    },
    {
      "cell_type": "code",
      "source": [
        "# Download necessary NLTK resources\n",
        "nltk.download('punkt')\n",
        "nltk.download('averaged_perceptron_tagger')\n",
        "nltk.download('stopwords')\n",
        "nltk.download('wordnet')"
      ],
      "metadata": {
        "colab": {
          "base_uri": "https://localhost:8080/"
        },
        "id": "OVDYu4w5CESl",
        "outputId": "b20c9192-bd9b-4177-8d8c-87c759fdc2d5"
      },
      "execution_count": 3,
      "outputs": [
        {
          "output_type": "stream",
          "name": "stderr",
          "text": [
            "[nltk_data] Downloading package punkt to /root/nltk_data...\n",
            "[nltk_data]   Unzipping tokenizers/punkt.zip.\n",
            "[nltk_data] Downloading package averaged_perceptron_tagger to\n",
            "[nltk_data]     /root/nltk_data...\n",
            "[nltk_data]   Unzipping taggers/averaged_perceptron_tagger.zip.\n",
            "[nltk_data] Downloading package stopwords to /root/nltk_data...\n",
            "[nltk_data]   Unzipping corpora/stopwords.zip.\n",
            "[nltk_data] Downloading package wordnet to /root/nltk_data...\n"
          ]
        },
        {
          "output_type": "execute_result",
          "data": {
            "text/plain": [
              "True"
            ]
          },
          "metadata": {},
          "execution_count": 3
        }
      ]
    },
    {
      "cell_type": "code",
      "source": [
        "\n",
        "# Sample document\n",
        "document = \"This is a sample document. It contains multiple sentences.\"\n",
        "\n",
        "# Word tokenization\n",
        "word_tokens = word_tokenize(document)\n",
        "\n",
        "# Sentence tokenization\n",
        "sentence_tokens = sent_tokenize(document)\n",
        "\n",
        "# Character tokenization\n",
        "character_tokens = list(document)\n",
        "\n",
        "# Print the results\n",
        "print(\"Original document:\", document)\n",
        "print(\"Word tokens:\", word_tokens)\n",
        "print(\"Sentence tokens:\", sentence_tokens)\n",
        "print(\"Character tokens:\", character_tokens)"
      ],
      "metadata": {
        "colab": {
          "base_uri": "https://localhost:8080/"
        },
        "id": "7d8CpiUgCGWQ",
        "outputId": "9d3a6086-4622-4508-c8b5-7646d1130052"
      },
      "execution_count": 4,
      "outputs": [
        {
          "output_type": "stream",
          "name": "stdout",
          "text": [
            "Original document: This is a sample document. It contains multiple sentences.\n",
            "Word tokens: ['This', 'is', 'a', 'sample', 'document', '.', 'It', 'contains', 'multiple', 'sentences', '.']\n",
            "Sentence tokens: ['This is a sample document.', 'It contains multiple sentences.']\n",
            "Character tokens: ['T', 'h', 'i', 's', ' ', 'i', 's', ' ', 'a', ' ', 's', 'a', 'm', 'p', 'l', 'e', ' ', 'd', 'o', 'c', 'u', 'm', 'e', 'n', 't', '.', ' ', 'I', 't', ' ', 'c', 'o', 'n', 't', 'a', 'i', 'n', 's', ' ', 'm', 'u', 'l', 't', 'i', 'p', 'l', 'e', ' ', 's', 'e', 'n', 't', 'e', 'n', 'c', 'e', 's', '.']\n"
          ]
        }
      ]
    },
    {
      "cell_type": "code",
      "source": [
        "document = \"This is a sample sentence.\"\n",
        "\n",
        "# Tokenize the document\n",
        "tokens = word_tokenize(document)\n",
        "\n",
        "# Perform POS tagging\n",
        "pos_tags = nltk.pos_tag(tokens)\n",
        "\n",
        "# Print the results\n",
        "print(\"Original document:\", document)\n",
        "print(\"POS tags:\", pos_tags)\n",
        "#Determiner verb,3rd peraon signular presnt  Adjective Noun sinular or mass punctuation mark"
      ],
      "metadata": {
        "colab": {
          "base_uri": "https://localhost:8080/"
        },
        "id": "nGpX2tzvCdpz",
        "outputId": "f710a04e-9895-4de9-f30e-c50396e43fd0"
      },
      "execution_count": 5,
      "outputs": [
        {
          "output_type": "stream",
          "name": "stdout",
          "text": [
            "Original document: This is a sample sentence.\n",
            "POS tags: [('This', 'DT'), ('is', 'VBZ'), ('a', 'DT'), ('sample', 'JJ'), ('sentence', 'NN'), ('.', '.')]\n"
          ]
        }
      ]
    },
    {
      "cell_type": "code",
      "source": [
        "sentence = \"This is an example sentence to demonstrate stop word removal.\"\n",
        "\n",
        "# Tokenize the sentence into words\n",
        "tokens = nltk.word_tokenize(sentence)\n",
        "\n",
        "# Get the list of English stop words\n",
        "stop_words = set(stopwords.words('english'))\n",
        "\n",
        "# Remove stop words from the sentence\n",
        "filtered_tokens = [word for word in tokens if word.lower() not in stop_words]\n",
        "\n",
        "# Join the filtered tokens back into a sentence\n",
        "filtered_sentence = ' '.join(filtered_tokens)\n",
        "\n",
        "print(\"Original Sentence:\")\n",
        "print(sentence)\n",
        "print(\"\\nFiltered Sentence:\")\n",
        "print(filtered_sentence)"
      ],
      "metadata": {
        "colab": {
          "base_uri": "https://localhost:8080/"
        },
        "id": "CKZAAUBCEyoY",
        "outputId": "f379488d-d4ca-40a6-c817-bbefff565f06"
      },
      "execution_count": 7,
      "outputs": [
        {
          "output_type": "stream",
          "name": "stdout",
          "text": [
            "Original Sentence:\n",
            "This is an example sentence to demonstrate stop word removal.\n",
            "\n",
            "Filtered Sentence:\n",
            "example sentence demonstrate stop word removal .\n"
          ]
        }
      ]
    },
    {
      "cell_type": "code",
      "source": [
        "stop_words"
      ],
      "metadata": {
        "colab": {
          "base_uri": "https://localhost:8080/"
        },
        "id": "pmr384QCFFZW",
        "outputId": "daaf580f-1397-43ce-b9cf-79631a17a537"
      },
      "execution_count": 8,
      "outputs": [
        {
          "output_type": "execute_result",
          "data": {
            "text/plain": [
              "{'a',\n",
              " 'about',\n",
              " 'above',\n",
              " 'after',\n",
              " 'again',\n",
              " 'against',\n",
              " 'ain',\n",
              " 'all',\n",
              " 'am',\n",
              " 'an',\n",
              " 'and',\n",
              " 'any',\n",
              " 'are',\n",
              " 'aren',\n",
              " \"aren't\",\n",
              " 'as',\n",
              " 'at',\n",
              " 'be',\n",
              " 'because',\n",
              " 'been',\n",
              " 'before',\n",
              " 'being',\n",
              " 'below',\n",
              " 'between',\n",
              " 'both',\n",
              " 'but',\n",
              " 'by',\n",
              " 'can',\n",
              " 'couldn',\n",
              " \"couldn't\",\n",
              " 'd',\n",
              " 'did',\n",
              " 'didn',\n",
              " \"didn't\",\n",
              " 'do',\n",
              " 'does',\n",
              " 'doesn',\n",
              " \"doesn't\",\n",
              " 'doing',\n",
              " 'don',\n",
              " \"don't\",\n",
              " 'down',\n",
              " 'during',\n",
              " 'each',\n",
              " 'few',\n",
              " 'for',\n",
              " 'from',\n",
              " 'further',\n",
              " 'had',\n",
              " 'hadn',\n",
              " \"hadn't\",\n",
              " 'has',\n",
              " 'hasn',\n",
              " \"hasn't\",\n",
              " 'have',\n",
              " 'haven',\n",
              " \"haven't\",\n",
              " 'having',\n",
              " 'he',\n",
              " 'her',\n",
              " 'here',\n",
              " 'hers',\n",
              " 'herself',\n",
              " 'him',\n",
              " 'himself',\n",
              " 'his',\n",
              " 'how',\n",
              " 'i',\n",
              " 'if',\n",
              " 'in',\n",
              " 'into',\n",
              " 'is',\n",
              " 'isn',\n",
              " \"isn't\",\n",
              " 'it',\n",
              " \"it's\",\n",
              " 'its',\n",
              " 'itself',\n",
              " 'just',\n",
              " 'll',\n",
              " 'm',\n",
              " 'ma',\n",
              " 'me',\n",
              " 'mightn',\n",
              " \"mightn't\",\n",
              " 'more',\n",
              " 'most',\n",
              " 'mustn',\n",
              " \"mustn't\",\n",
              " 'my',\n",
              " 'myself',\n",
              " 'needn',\n",
              " \"needn't\",\n",
              " 'no',\n",
              " 'nor',\n",
              " 'not',\n",
              " 'now',\n",
              " 'o',\n",
              " 'of',\n",
              " 'off',\n",
              " 'on',\n",
              " 'once',\n",
              " 'only',\n",
              " 'or',\n",
              " 'other',\n",
              " 'our',\n",
              " 'ours',\n",
              " 'ourselves',\n",
              " 'out',\n",
              " 'over',\n",
              " 'own',\n",
              " 're',\n",
              " 's',\n",
              " 'same',\n",
              " 'shan',\n",
              " \"shan't\",\n",
              " 'she',\n",
              " \"she's\",\n",
              " 'should',\n",
              " \"should've\",\n",
              " 'shouldn',\n",
              " \"shouldn't\",\n",
              " 'so',\n",
              " 'some',\n",
              " 'such',\n",
              " 't',\n",
              " 'than',\n",
              " 'that',\n",
              " \"that'll\",\n",
              " 'the',\n",
              " 'their',\n",
              " 'theirs',\n",
              " 'them',\n",
              " 'themselves',\n",
              " 'then',\n",
              " 'there',\n",
              " 'these',\n",
              " 'they',\n",
              " 'this',\n",
              " 'those',\n",
              " 'through',\n",
              " 'to',\n",
              " 'too',\n",
              " 'under',\n",
              " 'until',\n",
              " 'up',\n",
              " 've',\n",
              " 'very',\n",
              " 'was',\n",
              " 'wasn',\n",
              " \"wasn't\",\n",
              " 'we',\n",
              " 'were',\n",
              " 'weren',\n",
              " \"weren't\",\n",
              " 'what',\n",
              " 'when',\n",
              " 'where',\n",
              " 'which',\n",
              " 'while',\n",
              " 'who',\n",
              " 'whom',\n",
              " 'why',\n",
              " 'will',\n",
              " 'with',\n",
              " 'won',\n",
              " \"won't\",\n",
              " 'wouldn',\n",
              " \"wouldn't\",\n",
              " 'y',\n",
              " 'you',\n",
              " \"you'd\",\n",
              " \"you'll\",\n",
              " \"you're\",\n",
              " \"you've\",\n",
              " 'your',\n",
              " 'yours',\n",
              " 'yourself',\n",
              " 'yourselves'}"
            ]
          },
          "metadata": {},
          "execution_count": 8
        }
      ]
    },
    {
      "cell_type": "code",
      "source": [
        "# Initialize PorterStemmer\n",
        "stemmer = PorterStemmer()\n",
        "\n",
        "# Example words\n",
        "words = [\"running\", \"jumps\", \"swimming\", \"Studies\", \"cries\"]\n",
        "\n",
        "# Perform stemming on the words\n",
        "stemmed_words = [stemmer.stem(word) for word in words]\n",
        "\n",
        "# Print the original words and their stemmed forms\n",
        "for word, stemmed_word in zip(words, stemmed_words):\n",
        "    print(f\"Word: {word}\\t\\tStemmed Word: {stemmed_word}\")"
      ],
      "metadata": {
        "colab": {
          "base_uri": "https://localhost:8080/"
        },
        "id": "EEshDZ90FLaj",
        "outputId": "4f897e3d-5ca0-4a46-8cf7-7f9548bae776"
      },
      "execution_count": 10,
      "outputs": [
        {
          "output_type": "stream",
          "name": "stdout",
          "text": [
            "Word: running\t\tStemmed Word: run\n",
            "Word: jumps\t\tStemmed Word: jump\n",
            "Word: swimming\t\tStemmed Word: swim\n",
            "Word: Studies\t\tStemmed Word: studi\n",
            "Word: cries\t\tStemmed Word: cri\n"
          ]
        }
      ]
    },
    {
      "cell_type": "code",
      "source": [
        "lemmatizer = WordNetLemmatizer()\n",
        "\n",
        "# Example words\n",
        "words = [\"running\", \"jumps\", \"swimming\", \"Studies\", \"cries\"]\n",
        "\n",
        "# Perform lemmatization on the words\n",
        "lemmatized_words = [lemmatizer.lemmatize(word) for word in words]\n",
        "\n",
        "# Print the original words and their lemmatized forms\n",
        "for word, lemmatized_word in zip(words, lemmatized_words):\n",
        "    print(f\"Word: {word}\\t\\tLemmatized Word: {lemmatized_word}\")"
      ],
      "metadata": {
        "colab": {
          "base_uri": "https://localhost:8080/"
        },
        "id": "upmZOMhnGhTN",
        "outputId": "06304200-5dfb-4ea5-c7b6-8eb6ff7fabb5"
      },
      "execution_count": 11,
      "outputs": [
        {
          "output_type": "stream",
          "name": "stdout",
          "text": [
            "Word: running\t\tLemmatized Word: running\n",
            "Word: jumps\t\tLemmatized Word: jump\n",
            "Word: swimming\t\tLemmatized Word: swimming\n",
            "Word: Studies\t\tLemmatized Word: Studies\n",
            "Word: cries\t\tLemmatized Word: cry\n"
          ]
        }
      ]
    },
    {
      "cell_type": "code",
      "source": [
        "document = \"This is a sample document to calculate a term frequency.\"\n",
        "\n",
        "# Split the document into individual words\n",
        "words = document.split()\n",
        "\n",
        "# Count the frequency of each word\n",
        "word_count = {}\n",
        "for word in words:\n",
        "    if word in word_count:\n",
        "        word_count[word] += 1\n",
        "    else:\n",
        "        word_count[word] = 1\n",
        "\n",
        "# Calculate the total number of words\n",
        "total_words = len(words)\n",
        "\n",
        "# Calculate the TF for each word\n",
        "tf_values = {}\n",
        "for word, count in word_count.items():\n",
        "    tf_values[word] = count / total_words\n",
        "\n",
        "# Print the TF values for each word\n",
        "print(\"Term\\t\\tTF\")\n",
        "for word, tf in tf_values.items():\n",
        "    print(f\"{word}\\t\\t{tf:.4f}\")\n"
      ],
      "metadata": {
        "colab": {
          "base_uri": "https://localhost:8080/"
        },
        "id": "rWe_p6n_XC_X",
        "outputId": "1f925051-9efa-45bd-8b64-fd78f2d47631"
      },
      "execution_count": 36,
      "outputs": [
        {
          "output_type": "stream",
          "name": "stdout",
          "text": [
            "Term\t\tTF\n",
            "This\t\t0.1000\n",
            "is\t\t0.1000\n",
            "a\t\t0.2000\n",
            "sample\t\t0.1000\n",
            "document\t\t0.1000\n",
            "to\t\t0.1000\n",
            "calculate\t\t0.1000\n",
            "term\t\t0.1000\n",
            "frequency.\t\t0.1000\n",
            "10\n"
          ]
        }
      ]
    },
    {
      "cell_type": "code",
      "source": [
        "import math\n",
        "\n",
        "# Example documents\n",
        "documents = [\n",
        "    \"This is the first document.\",\n",
        "    \"This document is the second document.\",\n",
        "    \"And this is the third one.\",\n",
        "    \"Is this the first document?\",\n",
        "]\n",
        "\n",
        "# Create a set of unique terms\n",
        "unique_terms = set()\n",
        "for doc in documents:\n",
        "    unique_terms.update(doc.lower().split())\n",
        "\n",
        "# Calculate IDF for each term\n",
        "idf_values = {}\n",
        "total_docs = len(documents)\n",
        "for term in unique_terms:\n",
        "    doc_count = sum(term in doc.lower().split() for doc in documents)\n",
        "    idf = math.log(total_docs / (doc_count + 1))\n",
        "    idf_values[term] = idf\n",
        "\n",
        "# Print the IDF values for each term\n",
        "print(\"Term\\t\\tIDF\")\n",
        "for term, idf in idf_values.items():\n",
        "    print(f\"{term}\\t\\t{idf:.4f}\")\n"
      ],
      "metadata": {
        "colab": {
          "base_uri": "https://localhost:8080/"
        },
        "id": "Tdv0MqTKXRnw",
        "outputId": "8b8bf69a-9071-45fe-bd12-651416ac95e4"
      },
      "execution_count": 33,
      "outputs": [
        {
          "output_type": "stream",
          "name": "stdout",
          "text": [
            "Term\t\tIDF\n",
            "the\t\t-0.2231\n",
            "is\t\t-0.2231\n",
            "this\t\t-0.2231\n",
            "one.\t\t0.6931\n",
            "third\t\t0.6931\n",
            "document?\t\t0.6931\n",
            "first\t\t0.2877\n",
            "second\t\t0.6931\n",
            "and\t\t0.6931\n",
            "document\t\t0.6931\n",
            "document.\t\t0.2877\n"
          ]
        }
      ]
    }
  ]
}